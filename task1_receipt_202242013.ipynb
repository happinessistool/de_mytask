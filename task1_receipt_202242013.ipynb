{
 "cells": [
  {
   "cell_type": "markdown",
   "id": "4b426839-e484-43c8-b51d-9590e6f9ce22",
   "metadata": {
    "tags": []
   },
   "source": [
    "# Making_receipt_202242013"
   ]
  },
  {
   "cell_type": "code",
   "execution_count": 80,
   "id": "7b603d49-09ef-4636-90de-ec456dd23ba6",
   "metadata": {
    "tags": []
   },
   "outputs": [],
   "source": [
    "#funiture description & price set\n",
    "\n",
    "lovely_loveseat_description = \"Lovely Loveseat. Tufted polyester blend on wood. 32 inches high x 40 inches wide x 30 inches deep. Red or white.\"\n",
    "lovely_loveseat_price = 254.00\n",
    "\n",
    "stylish_settee_description = \"Stylish Settee. Faux leather on birch. 29.50 inches high x 54.75 inches wide x 28 inches deep. Black.\"\n",
    "stylish_settee_price = 180.50\n",
    "\n",
    "luxurious_lamp_description = \"Luxurious Lamp. Glass and iron. 36 inches tall. Brown with cream shade.\"\n",
    "luxurious_lamp_price = 52.15\n"
   ]
  },
  {
   "cell_type": "code",
   "execution_count": 81,
   "id": "eede661b-8e33-4dad-9a1a-9af71ca69b39",
   "metadata": {
    "tags": []
   },
   "outputs": [],
   "source": [
    "#sales_ tax\n",
    "sales_tax = 0.088"
   ]
  },
  {
   "cell_type": "code",
   "execution_count": 82,
   "id": "a64fff3e-8669-451a-bc64-39ad4bd86a3a",
   "metadata": {
    "tags": []
   },
   "outputs": [],
   "source": [
    "#order set\n",
    "customer_one_total = 0\n",
    "customer_one_itemization = \"\"\n",
    "\n",
    "#order\n",
    "customer_one_itemization += lovely_loveseat_description\n",
    "customer_one_total += lovely_loveseat_price\n",
    "customer_one_itemization += luxurious_lamp_description\n",
    "customer_one_total += luxurious_lamp_price\n"
   ]
  },
  {
   "cell_type": "code",
   "execution_count": 83,
   "id": "2956ec65-d0d4-40eb-aa78-ef78d3192ec9",
   "metadata": {
    "tags": []
   },
   "outputs": [
    {
     "name": "stdout",
     "output_type": "stream",
     "text": [
      "Customer One Item:  Lovely Loveseat. Tufted polyester blend on wood. 32 inches high x 40 inches wide x 30 inches deep. Red or white.Luxurious Lamp. Glass and iron. 36 inches tall. Brown with cream shade.\n",
      "Customer One Total:  333.09119999999996\n"
     ]
    }
   ],
   "source": [
    "#calculating & printing receipt\n",
    "customer_one_total += customer_one_total * sales_tax\n",
    "\n",
    "print(\"Customer One Item: \",customer_one_itemization)\n",
    "print(\"Customer One Total: \",customer_one_total)"
   ]
  }
 ],
 "metadata": {
  "kernelspec": {
   "display_name": "Python 3 (ipykernel)",
   "language": "python",
   "name": "python3"
  },
  "language_info": {
   "codemirror_mode": {
    "name": "ipython",
    "version": 3
   },
   "file_extension": ".py",
   "mimetype": "text/x-python",
   "name": "python",
   "nbconvert_exporter": "python",
   "pygments_lexer": "ipython3",
   "version": "3.11.4"
  }
 },
 "nbformat": 4,
 "nbformat_minor": 5
}
