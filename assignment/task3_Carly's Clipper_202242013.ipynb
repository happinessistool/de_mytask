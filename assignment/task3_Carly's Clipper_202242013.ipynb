{
 "cells": [
  {
   "cell_type": "markdown",
   "id": "a334fe85-d7fd-4be4-a20f-5009900ff28b",
   "metadata": {
    "tags": []
   },
   "source": [
    "# 과제3: Carly's Clipper"
   ]
  },
  {
   "cell_type": "code",
   "execution_count": 2,
   "id": "281ef224-815b-46a2-ae7c-a3580ab8349b",
   "metadata": {
    "tags": []
   },
   "outputs": [],
   "source": [
    "#주어진 리스트\n",
    "hairstyles =  [ \"bouffant\", \"pixel\", \"dreadlocks\", \"crew\", \"bowl\", \"bob\",\"mohawk\",\"flattop\"]\n",
    "prices = [30, 25, 40, 20, 20, 35, 50, 35]\n",
    "last_week = [2, 3, 5, 8, 4, 4, 6, 2]"
   ]
  },
  {
   "cell_type": "markdown",
   "id": "1d127091-01da-4da8-80e6-51c6c095db15",
   "metadata": {},
   "source": [
    "## Prices and Cuts:"
   ]
  },
  {
   "cell_type": "code",
   "execution_count": 14,
   "id": "2c139719-bc5d-493e-85f9-a2d0b621bf02",
   "metadata": {
    "tags": []
   },
   "outputs": [
    {
     "name": "stdout",
     "output_type": "stream",
     "text": [
      "Average price is 31.875\n"
     ]
    }
   ],
   "source": [
    "#전체 가격의 합 구하기\n",
    "total_price = 0\n",
    "for i in range(len(prices)):\n",
    "    total_price += prices[i]\n",
    "#평균 가격 구하기\n",
    "average_price = total_price / len(prices)\n",
    "\n",
    "print(\"Average price is\",average_price)"
   ]
  },
  {
   "cell_type": "code",
   "execution_count": 15,
   "id": "5c764941-0c2a-49b8-a07a-cfa2468291c9",
   "metadata": {
    "tags": []
   },
   "outputs": [
    {
     "name": "stdout",
     "output_type": "stream",
     "text": [
      "[25, 20, 35, 15, 15, 30, 45, 30]\n"
     ]
    }
   ],
   "source": [
    "#가격 내리기(리스트 컴프리헨션 사용)\n",
    "new_prices = 0\n",
    "new_prices = [i - 5 for i in prices]\n",
    "print(new_prices)"
   ]
  },
  {
   "cell_type": "markdown",
   "id": "828033a2-b251-47cd-b7c2-af0bbcb427b0",
   "metadata": {},
   "source": [
    "## Revenue:"
   ]
  },
  {
   "cell_type": "code",
   "execution_count": 17,
   "id": "2a4a1d23-d50c-4ec5-afa4-b33c58895ca0",
   "metadata": {
    "tags": []
   },
   "outputs": [
    {
     "name": "stdout",
     "output_type": "stream",
     "text": [
      "1085\n"
     ]
    }
   ],
   "source": [
    "#지난주 총 수익\n",
    "total_revenue = 0\n",
    "for i in range(len(hairstyles)):\n",
    "    total_revenue += prices[i] * last_week[i]\n",
    "print(total_revenue)"
   ]
  },
  {
   "cell_type": "code",
   "execution_count": 19,
   "id": "e4be53d9-8360-4abf-8519-3cdc5ce09d06",
   "metadata": {
    "tags": []
   },
   "outputs": [
    {
     "name": "stdout",
     "output_type": "stream",
     "text": [
      "Average daily revenue is 155.0\n"
     ]
    }
   ],
   "source": [
    "#하루 평균 수익\n",
    "average_daily_revenue = total_revenue / 7\n",
    "print('Average daily revenue is',average_daily_revenue)"
   ]
  },
  {
   "cell_type": "code",
   "execution_count": 23,
   "id": "8d41e8d6-e9b0-40d9-9313-7fc53af5cbee",
   "metadata": {},
   "outputs": [
    {
     "name": "stdout",
     "output_type": "stream",
     "text": [
      "['bouffant', 'pixel', 'crew', 'bowl']\n"
     ]
    }
   ],
   "source": [
    "#30달러 이하의 헤어스타일 골라내기\n",
    "cuts_under_30 = [hairstyles[i] for i in range(len(new_prices)) if new_prices[i] < 30]\n",
    "print(cuts_under_30)"
   ]
  },
  {
   "cell_type": "code",
   "execution_count": null,
   "id": "7ac94ce9-9516-4620-9945-72ede3510a53",
   "metadata": {},
   "outputs": [],
   "source": []
  }
 ],
 "metadata": {
  "kernelspec": {
   "display_name": "Python 3 (ipykernel)",
   "language": "python",
   "name": "python3"
  },
  "language_info": {
   "codemirror_mode": {
    "name": "ipython",
    "version": 3
   },
   "file_extension": ".py",
   "mimetype": "text/x-python",
   "name": "python",
   "nbconvert_exporter": "python",
   "pygments_lexer": "ipython3",
   "version": "3.11.4"
  }
 },
 "nbformat": 4,
 "nbformat_minor": 5
}
