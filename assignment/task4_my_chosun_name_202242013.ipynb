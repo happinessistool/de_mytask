{
 "cells": [
  {
   "cell_type": "markdown",
   "id": "a334fe85-d7fd-4be4-a20f-5009900ff28b",
   "metadata": {
    "tags": []
   },
   "source": [
    "# 과제4: 나의 조선시대 이름 찾기"
   ]
  },
  {
   "cell_type": "code",
   "execution_count": 2,
   "id": "7ac94ce9-9516-4620-9945-72ede3510a53",
   "metadata": {},
   "outputs": [],
   "source": [
    "import numpy as np"
   ]
  },
  {
   "cell_type": "code",
   "execution_count": 11,
   "id": "281ef224-815b-46a2-ae7c-a3580ab8349b",
   "metadata": {
    "tags": []
   },
   "outputs": [],
   "source": [
    "#성(family name), 달(month), 날짜(day) 입력받는 함수 작성하기\n",
    "def get_my_chosun_name(family_name, month, day):\n",
    "    month_list = ['쌍','쇠','복','돌','땡','육','쌍','개','칠','갑','상','방']\n",
    "    day_list = ['봉', '구', '욕', '포', '똥', '삼', '식', '석', '놈', '님', '년', '돌', '단', '득', '방', '질', '장', '걸', '래', '룡', '동', '순', '자', '박', '창', '언', '것', '포', '만', '단', '국']\n",
    "    print('당신의 조선시대 이름은 %s%s%s 입니다.' %(family_name,month_list[month-1],day_list[day-1]))"
   ]
  },
  {
   "cell_type": "code",
   "execution_count": 13,
   "id": "4baf2952-20eb-4231-9b4c-38d3e9570443",
   "metadata": {
    "tags": []
   },
   "outputs": [
    {
     "name": "stdout",
     "output_type": "stream",
     "text": [
      "당신의 조선시대 이름은 안칠걸 입니다.\n"
     ]
    }
   ],
   "source": [
    "#이름 출력하기\n",
    "get_my_chosun_name('안',9,18)"
   ]
  },
  {
   "cell_type": "code",
   "execution_count": null,
   "id": "44b502f1-80d2-453a-be6f-8934dd974a31",
   "metadata": {},
   "outputs": [],
   "source": []
  }
 ],
 "metadata": {
  "kernelspec": {
   "display_name": "Python 3 (ipykernel)",
   "language": "python",
   "name": "python3"
  },
  "language_info": {
   "codemirror_mode": {
    "name": "ipython",
    "version": 3
   },
   "file_extension": ".py",
   "mimetype": "text/x-python",
   "name": "python",
   "nbconvert_exporter": "python",
   "pygments_lexer": "ipython3",
   "version": "3.11.4"
  }
 },
 "nbformat": 4,
 "nbformat_minor": 5
}
