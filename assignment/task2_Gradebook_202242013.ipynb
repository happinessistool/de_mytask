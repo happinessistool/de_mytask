{
 "cells": [
  {
   "cell_type": "markdown",
   "id": "a334fe85-d7fd-4be4-a20f-5009900ff28b",
   "metadata": {
    "tags": []
   },
   "source": [
    "# 과제2: Gradebook"
   ]
  },
  {
   "cell_type": "markdown",
   "id": "f5ebed18-5c55-4d31-8c70-f999f3bf9a0e",
   "metadata": {},
   "source": [
    "## Create Some Lists:"
   ]
  },
  {
   "cell_type": "code",
   "execution_count": 55,
   "id": "6990cd9b-c9de-438a-ae67-60d4d677de43",
   "metadata": {
    "tags": []
   },
   "outputs": [
    {
     "name": "stdout",
     "output_type": "stream",
     "text": [
      "['physics', 'calculaus', 'poetry', 'history']\n"
     ]
    }
   ],
   "source": [
    "#subject 리스트 생성\n",
    "subject = ['physics','calculaus','poetry','history']\n",
    "print(subject)"
   ]
  },
  {
   "cell_type": "code",
   "execution_count": 56,
   "id": "9e28d9f1-94de-48ad-b444-a5486a660308",
   "metadata": {
    "tags": []
   },
   "outputs": [
    {
     "name": "stdout",
     "output_type": "stream",
     "text": [
      "[98, 97, 85, 88]\n"
     ]
    }
   ],
   "source": [
    "#grade 리스트 생성\n",
    "grade = [98,97,85,88]\n",
    "print(grade)"
   ]
  },
  {
   "cell_type": "code",
   "execution_count": 71,
   "id": "3c7e9f84-6b20-4954-a0ee-75fad17f70a7",
   "metadata": {
    "tags": []
   },
   "outputs": [
    {
     "name": "stdout",
     "output_type": "stream",
     "text": [
      "[['physics', 98], ['calculaus', 97], ['poetry', 85], ['history', 88]]\n"
     ]
    }
   ],
   "source": [
    "#subject리스트와 grade리스트 병합\n",
    "gradebook = []\n",
    "for i in range(4):\n",
    "    gradebook += [[subject[i],grade[i]]]\n",
    "print(gradebook)"
   ]
  },
  {
   "cell_type": "code",
   "execution_count": 72,
   "id": "7a2fc33a-d4fd-4c1e-a3b5-bbaee617d637",
   "metadata": {
    "tags": []
   },
   "outputs": [
    {
     "name": "stdout",
     "output_type": "stream",
     "text": [
      "[['physics', 98], ['calculaus', 97], ['poetry', 85], ['history', 88], ['computer science', 100]]\n"
     ]
    }
   ],
   "source": [
    "#computer science 점수 추가\n",
    "gradebook.append(['computer science',100])\n",
    "print(gradebook)"
   ]
  },
  {
   "cell_type": "code",
   "execution_count": 73,
   "id": "26d4f816-dd78-40be-812d-ebdb78b97ebf",
   "metadata": {
    "tags": []
   },
   "outputs": [
    {
     "name": "stdout",
     "output_type": "stream",
     "text": [
      "[['physics', 98], ['calculaus', 97], ['poetry', 85], ['history', 88], ['computer science', 100], ['visual art', 93]]\n"
     ]
    }
   ],
   "source": [
    "#visual art 점수 추가\n",
    "gradebook.append(['visual art', 93])\n",
    "print(gradebook)"
   ]
  },
  {
   "cell_type": "markdown",
   "id": "1d127091-01da-4da8-80e6-51c6c095db15",
   "metadata": {},
   "source": [
    "## Modify the GradeBook:"
   ]
  },
  {
   "cell_type": "code",
   "execution_count": 74,
   "id": "2c139719-bc5d-493e-85f9-a2d0b621bf02",
   "metadata": {
    "tags": []
   },
   "outputs": [
    {
     "name": "stdout",
     "output_type": "stream",
     "text": [
      "[['physics', 98], ['calculaus', 97], ['poetry', 85], ['history', 88], ['computer science', 100], ['visual art', 98]]\n"
     ]
    }
   ],
   "source": [
    "#visual art 5점 부과하기\n",
    "gradebook[-1][-1] += 5\n",
    "print(gradebook)"
   ]
  },
  {
   "cell_type": "code",
   "execution_count": 75,
   "id": "5c764941-0c2a-49b8-a07a-cfa2468291c9",
   "metadata": {
    "tags": []
   },
   "outputs": [
    {
     "name": "stdout",
     "output_type": "stream",
     "text": [
      "[['physics', 98], ['calculaus', 97], ['poetry', 'Pass'], ['history', 88], ['computer science', 100], ['visual art', 98]]\n"
     ]
    }
   ],
   "source": [
    "#poetry class Pass로 기재하기\n",
    "gradebook[2].remove(85)\n",
    "gradebook[2].append('Pass')\n",
    "print(gradebook)"
   ]
  },
  {
   "cell_type": "markdown",
   "id": "828033a2-b251-47cd-b7c2-af0bbcb427b0",
   "metadata": {},
   "source": [
    "## One Big Gradebook!"
   ]
  },
  {
   "cell_type": "code",
   "execution_count": 82,
   "id": "2a4a1d23-d50c-4ec5-afa4-b33c58895ca0",
   "metadata": {
    "tags": []
   },
   "outputs": [
    {
     "name": "stdout",
     "output_type": "stream",
     "text": [
      "[['politics', 80], ['latin', 96], ['dance', 97], ['architecture', 65]]\n"
     ]
    }
   ],
   "source": [
    "#지난 학기 성적표\n",
    "subject = ['politics', 'latin', 'dance', 'architecture']\n",
    "grade = [80, 96, 97, 65]\n",
    "last_semester_gradebook = []\n",
    "for i in range (4):\n",
    "    last_semester_gradebook += [[subject[i],grade[i]]]\n",
    "print(last_semester_gradebook)"
   ]
  },
  {
   "cell_type": "code",
   "execution_count": 84,
   "id": "e4be53d9-8360-4abf-8519-3cdc5ce09d06",
   "metadata": {
    "tags": []
   },
   "outputs": [
    {
     "name": "stdout",
     "output_type": "stream",
     "text": [
      "[['politics', 80], ['latin', 96], ['dance', 97], ['architecture', 65], ['physics', 98], ['calculaus', 97], ['poetry', 'Pass'], ['history', 88], ['computer science', 100], ['visual art', 98]]\n"
     ]
    }
   ],
   "source": [
    "# 한 해동안의 성적표 \n",
    "full_gradebook = last_semester_gradebook + gradebook\n",
    "print(full_gradebook)"
   ]
  },
  {
   "cell_type": "code",
   "execution_count": null,
   "id": "8d41e8d6-e9b0-40d9-9313-7fc53af5cbee",
   "metadata": {},
   "outputs": [],
   "source": []
  }
 ],
 "metadata": {
  "kernelspec": {
   "display_name": "Python 3 (ipykernel)",
   "language": "python",
   "name": "python3"
  },
  "language_info": {
   "codemirror_mode": {
    "name": "ipython",
    "version": 3
   },
   "file_extension": ".py",
   "mimetype": "text/x-python",
   "name": "python",
   "nbconvert_exporter": "python",
   "pygments_lexer": "ipython3",
   "version": "3.11.4"
  }
 },
 "nbformat": 4,
 "nbformat_minor": 5
}
